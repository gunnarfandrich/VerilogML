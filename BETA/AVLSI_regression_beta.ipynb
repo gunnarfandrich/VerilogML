{
 "cells": [
  {
   "cell_type": "code",
   "execution_count": null,
   "id": "2c7cf6a7",
   "metadata": {},
   "outputs": [],
   "source": [
    "import numpy as np\n",
    "import pandas as pd\n",
    "import scipy.stats as stats\n",
    "from sklearn import linear_model\n",
    "import matplotlib.pyplot as plt\n",
    "%matplotlib inline\n",
    "plt.style.use('bmh')"
   ]
  },
  {
   "cell_type": "code",
   "execution_count": null,
   "id": "84011529",
   "metadata": {},
   "outputs": [],
   "source": [
    "# df - dataframe\n",
    "# each row represents a design from open-cores\n",
    "# first n columns represents n features, and last column represents power estimate from Design Compiler (label)\n",
    "df = # obtain dataframe output from rtl feature/label collection code\n",
    "df"
   ]
  },
  {
   "cell_type": "code",
   "execution_count": null,
   "id": "7bbe7721",
   "metadata": {},
   "outputs": [],
   "source": [
    "# print a correlation matrix of the features we obtained\n",
    "df.corr()"
   ]
  },
  {
   "cell_type": "code",
   "execution_count": null,
   "id": "3a8c1652",
   "metadata": {},
   "outputs": [],
   "source": [
    "# plot a scatter matrix for each pair of variables\n",
    "pd.plotting.scatter_matrix(df, alpha=0.2, figsize=[20,15]);"
   ]
  },
  {
   "cell_type": "code",
   "execution_count": null,
   "id": "069a9d93",
   "metadata": {},
   "outputs": [],
   "source": [
    "# view correlation with regard to label\n",
    "# greater magnitude (+/-) means greater correlation\n",
    "df.corr()['Dynamic Power']"
   ]
  },
  {
   "cell_type": "markdown",
   "id": "f4b6b778",
   "metadata": {},
   "source": [
    "TO-DO: separate data into training and testing sets"
   ]
  },
  {
   "cell_type": "code",
   "execution_count": null,
   "id": "4b354af8",
   "metadata": {},
   "outputs": [],
   "source": [
    "# build multiple linear regression model from features\n",
    "features = ['if', 'else', 'case', '...']\n",
    "target = 'Dynamic Power'\n",
    "\n",
    "X = df[features].values.reshape(-1, len(features))\n",
    "y = df[target].values\n",
    "\n",
    "ols = linear_model.LinearRegression()\n",
    "model = ols.fit(X, y)"
   ]
  },
  {
   "cell_type": "code",
   "execution_count": null,
   "id": "6faf8236",
   "metadata": {},
   "outputs": [],
   "source": [
    "model.coef_"
   ]
  },
  {
   "cell_type": "code",
   "execution_count": null,
   "id": "2190cd37",
   "metadata": {},
   "outputs": [],
   "source": [
    "model.intercept_"
   ]
  },
  {
   "cell_type": "code",
   "execution_count": null,
   "id": "2e1a45f7",
   "metadata": {},
   "outputs": [],
   "source": [
    "# evaluate R2\n",
    "model.score(X, y)"
   ]
  },
  {
   "cell_type": "code",
   "execution_count": null,
   "id": "808a32b3",
   "metadata": {},
   "outputs": [],
   "source": [
    "# load prediction (from testing set)\n",
    "# model.predict(x_pred)"
   ]
  }
 ],
 "metadata": {
  "kernelspec": {
   "display_name": "Python 3 (ipykernel)",
   "language": "python",
   "name": "python3"
  },
  "language_info": {
   "codemirror_mode": {
    "name": "ipython",
    "version": 3
   },
   "file_extension": ".py",
   "mimetype": "text/x-python",
   "name": "python",
   "nbconvert_exporter": "python",
   "pygments_lexer": "ipython3",
   "version": "3.8.5"
  }
 },
 "nbformat": 4,
 "nbformat_minor": 5
}
